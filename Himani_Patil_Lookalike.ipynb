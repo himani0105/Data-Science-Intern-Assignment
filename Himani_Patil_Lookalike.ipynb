{
 "cells": [
  {
   "cell_type": "code",
   "execution_count": 15,
   "id": "4d5070b2",
   "metadata": {},
   "outputs": [],
   "source": [
    "import pandas as pd\n",
    "import numpy as np\n",
    "import matplotlib.pyplot as plt\n",
    "import seaborn as sns\n",
    "from sklearn.metrics.pairwise import cosine_similarity\n",
    "from sklearn.preprocessing import MinMaxScaler"
   ]
  },
  {
   "cell_type": "code",
   "execution_count": 2,
   "id": "42af7432",
   "metadata": {},
   "outputs": [],
   "source": [
    "customer_df = pd.read_csv('Customers.csv')\n",
    "product_df = pd.read_csv('Products.csv')\n",
    "transaction_df = pd.read_csv('Transactions.csv')"
   ]
  },
  {
   "cell_type": "code",
   "execution_count": 3,
   "id": "52503ba6",
   "metadata": {},
   "outputs": [
    {
     "data": {
      "text/html": [
       "<div>\n",
       "<style scoped>\n",
       "    .dataframe tbody tr th:only-of-type {\n",
       "        vertical-align: middle;\n",
       "    }\n",
       "\n",
       "    .dataframe tbody tr th {\n",
       "        vertical-align: top;\n",
       "    }\n",
       "\n",
       "    .dataframe thead th {\n",
       "        text-align: right;\n",
       "    }\n",
       "</style>\n",
       "<table border=\"1\" class=\"dataframe\">\n",
       "  <thead>\n",
       "    <tr style=\"text-align: right;\">\n",
       "      <th></th>\n",
       "      <th>CustomerID</th>\n",
       "      <th>CustomerName</th>\n",
       "      <th>Region</th>\n",
       "      <th>SignupDate</th>\n",
       "    </tr>\n",
       "  </thead>\n",
       "  <tbody>\n",
       "    <tr>\n",
       "      <th>0</th>\n",
       "      <td>C0001</td>\n",
       "      <td>Lawrence Carroll</td>\n",
       "      <td>South America</td>\n",
       "      <td>2022-07-10</td>\n",
       "    </tr>\n",
       "    <tr>\n",
       "      <th>1</th>\n",
       "      <td>C0002</td>\n",
       "      <td>Elizabeth Lutz</td>\n",
       "      <td>Asia</td>\n",
       "      <td>2022-02-13</td>\n",
       "    </tr>\n",
       "    <tr>\n",
       "      <th>2</th>\n",
       "      <td>C0003</td>\n",
       "      <td>Michael Rivera</td>\n",
       "      <td>South America</td>\n",
       "      <td>2024-03-07</td>\n",
       "    </tr>\n",
       "    <tr>\n",
       "      <th>3</th>\n",
       "      <td>C0004</td>\n",
       "      <td>Kathleen Rodriguez</td>\n",
       "      <td>South America</td>\n",
       "      <td>2022-10-09</td>\n",
       "    </tr>\n",
       "    <tr>\n",
       "      <th>4</th>\n",
       "      <td>C0005</td>\n",
       "      <td>Laura Weber</td>\n",
       "      <td>Asia</td>\n",
       "      <td>2022-08-15</td>\n",
       "    </tr>\n",
       "  </tbody>\n",
       "</table>\n",
       "</div>"
      ],
      "text/plain": [
       "  CustomerID        CustomerName         Region  SignupDate\n",
       "0      C0001    Lawrence Carroll  South America  2022-07-10\n",
       "1      C0002      Elizabeth Lutz           Asia  2022-02-13\n",
       "2      C0003      Michael Rivera  South America  2024-03-07\n",
       "3      C0004  Kathleen Rodriguez  South America  2022-10-09\n",
       "4      C0005         Laura Weber           Asia  2022-08-15"
      ]
     },
     "execution_count": 3,
     "metadata": {},
     "output_type": "execute_result"
    }
   ],
   "source": [
    "customer_df.head()"
   ]
  },
  {
   "cell_type": "code",
   "execution_count": 4,
   "id": "2299ad3b",
   "metadata": {},
   "outputs": [
    {
     "data": {
      "text/html": [
       "<div>\n",
       "<style scoped>\n",
       "    .dataframe tbody tr th:only-of-type {\n",
       "        vertical-align: middle;\n",
       "    }\n",
       "\n",
       "    .dataframe tbody tr th {\n",
       "        vertical-align: top;\n",
       "    }\n",
       "\n",
       "    .dataframe thead th {\n",
       "        text-align: right;\n",
       "    }\n",
       "</style>\n",
       "<table border=\"1\" class=\"dataframe\">\n",
       "  <thead>\n",
       "    <tr style=\"text-align: right;\">\n",
       "      <th></th>\n",
       "      <th>ProductID</th>\n",
       "      <th>ProductName</th>\n",
       "      <th>Category</th>\n",
       "      <th>Price</th>\n",
       "    </tr>\n",
       "  </thead>\n",
       "  <tbody>\n",
       "    <tr>\n",
       "      <th>0</th>\n",
       "      <td>P001</td>\n",
       "      <td>ActiveWear Biography</td>\n",
       "      <td>Books</td>\n",
       "      <td>169.30</td>\n",
       "    </tr>\n",
       "    <tr>\n",
       "      <th>1</th>\n",
       "      <td>P002</td>\n",
       "      <td>ActiveWear Smartwatch</td>\n",
       "      <td>Electronics</td>\n",
       "      <td>346.30</td>\n",
       "    </tr>\n",
       "    <tr>\n",
       "      <th>2</th>\n",
       "      <td>P003</td>\n",
       "      <td>ComfortLiving Biography</td>\n",
       "      <td>Books</td>\n",
       "      <td>44.12</td>\n",
       "    </tr>\n",
       "    <tr>\n",
       "      <th>3</th>\n",
       "      <td>P004</td>\n",
       "      <td>BookWorld Rug</td>\n",
       "      <td>Home Decor</td>\n",
       "      <td>95.69</td>\n",
       "    </tr>\n",
       "    <tr>\n",
       "      <th>4</th>\n",
       "      <td>P005</td>\n",
       "      <td>TechPro T-Shirt</td>\n",
       "      <td>Clothing</td>\n",
       "      <td>429.31</td>\n",
       "    </tr>\n",
       "  </tbody>\n",
       "</table>\n",
       "</div>"
      ],
      "text/plain": [
       "  ProductID              ProductName     Category   Price\n",
       "0      P001     ActiveWear Biography        Books  169.30\n",
       "1      P002    ActiveWear Smartwatch  Electronics  346.30\n",
       "2      P003  ComfortLiving Biography        Books   44.12\n",
       "3      P004            BookWorld Rug   Home Decor   95.69\n",
       "4      P005          TechPro T-Shirt     Clothing  429.31"
      ]
     },
     "execution_count": 4,
     "metadata": {},
     "output_type": "execute_result"
    }
   ],
   "source": [
    "product_df.head()"
   ]
  },
  {
   "cell_type": "code",
   "execution_count": 5,
   "id": "2eda34f3",
   "metadata": {},
   "outputs": [
    {
     "data": {
      "text/html": [
       "<div>\n",
       "<style scoped>\n",
       "    .dataframe tbody tr th:only-of-type {\n",
       "        vertical-align: middle;\n",
       "    }\n",
       "\n",
       "    .dataframe tbody tr th {\n",
       "        vertical-align: top;\n",
       "    }\n",
       "\n",
       "    .dataframe thead th {\n",
       "        text-align: right;\n",
       "    }\n",
       "</style>\n",
       "<table border=\"1\" class=\"dataframe\">\n",
       "  <thead>\n",
       "    <tr style=\"text-align: right;\">\n",
       "      <th></th>\n",
       "      <th>TransactionID</th>\n",
       "      <th>CustomerID</th>\n",
       "      <th>ProductID</th>\n",
       "      <th>TransactionDate</th>\n",
       "      <th>Quantity</th>\n",
       "      <th>TotalValue</th>\n",
       "      <th>Price</th>\n",
       "    </tr>\n",
       "  </thead>\n",
       "  <tbody>\n",
       "    <tr>\n",
       "      <th>0</th>\n",
       "      <td>T00001</td>\n",
       "      <td>C0199</td>\n",
       "      <td>P067</td>\n",
       "      <td>2024-08-25 12:38:23</td>\n",
       "      <td>1</td>\n",
       "      <td>300.68</td>\n",
       "      <td>300.68</td>\n",
       "    </tr>\n",
       "    <tr>\n",
       "      <th>1</th>\n",
       "      <td>T00112</td>\n",
       "      <td>C0146</td>\n",
       "      <td>P067</td>\n",
       "      <td>2024-05-27 22:23:54</td>\n",
       "      <td>1</td>\n",
       "      <td>300.68</td>\n",
       "      <td>300.68</td>\n",
       "    </tr>\n",
       "    <tr>\n",
       "      <th>2</th>\n",
       "      <td>T00166</td>\n",
       "      <td>C0127</td>\n",
       "      <td>P067</td>\n",
       "      <td>2024-04-25 07:38:55</td>\n",
       "      <td>1</td>\n",
       "      <td>300.68</td>\n",
       "      <td>300.68</td>\n",
       "    </tr>\n",
       "    <tr>\n",
       "      <th>3</th>\n",
       "      <td>T00272</td>\n",
       "      <td>C0087</td>\n",
       "      <td>P067</td>\n",
       "      <td>2024-03-26 22:55:37</td>\n",
       "      <td>2</td>\n",
       "      <td>601.36</td>\n",
       "      <td>300.68</td>\n",
       "    </tr>\n",
       "    <tr>\n",
       "      <th>4</th>\n",
       "      <td>T00363</td>\n",
       "      <td>C0070</td>\n",
       "      <td>P067</td>\n",
       "      <td>2024-03-21 15:10:10</td>\n",
       "      <td>3</td>\n",
       "      <td>902.04</td>\n",
       "      <td>300.68</td>\n",
       "    </tr>\n",
       "  </tbody>\n",
       "</table>\n",
       "</div>"
      ],
      "text/plain": [
       "  TransactionID CustomerID ProductID      TransactionDate  Quantity  \\\n",
       "0        T00001      C0199      P067  2024-08-25 12:38:23         1   \n",
       "1        T00112      C0146      P067  2024-05-27 22:23:54         1   \n",
       "2        T00166      C0127      P067  2024-04-25 07:38:55         1   \n",
       "3        T00272      C0087      P067  2024-03-26 22:55:37         2   \n",
       "4        T00363      C0070      P067  2024-03-21 15:10:10         3   \n",
       "\n",
       "   TotalValue   Price  \n",
       "0      300.68  300.68  \n",
       "1      300.68  300.68  \n",
       "2      300.68  300.68  \n",
       "3      601.36  300.68  \n",
       "4      902.04  300.68  "
      ]
     },
     "execution_count": 5,
     "metadata": {},
     "output_type": "execute_result"
    }
   ],
   "source": [
    "transaction_df.head()"
   ]
  },
  {
   "cell_type": "code",
   "execution_count": 6,
   "id": "b62547ab",
   "metadata": {},
   "outputs": [
    {
     "data": {
      "text/plain": [
       "CustomerID      0\n",
       "CustomerName    0\n",
       "Region          0\n",
       "SignupDate      0\n",
       "dtype: int64"
      ]
     },
     "execution_count": 6,
     "metadata": {},
     "output_type": "execute_result"
    }
   ],
   "source": [
    "customer_df.isnull().sum()"
   ]
  },
  {
   "cell_type": "code",
   "execution_count": 7,
   "id": "651fedf7",
   "metadata": {},
   "outputs": [
    {
     "data": {
      "text/plain": [
       "ProductID      0\n",
       "ProductName    0\n",
       "Category       0\n",
       "Price          0\n",
       "dtype: int64"
      ]
     },
     "execution_count": 7,
     "metadata": {},
     "output_type": "execute_result"
    }
   ],
   "source": [
    "product_df.isnull().sum()"
   ]
  },
  {
   "cell_type": "code",
   "execution_count": 8,
   "id": "362ba7ca",
   "metadata": {},
   "outputs": [
    {
     "data": {
      "text/plain": [
       "TransactionID      0\n",
       "CustomerID         0\n",
       "ProductID          0\n",
       "TransactionDate    0\n",
       "Quantity           0\n",
       "TotalValue         0\n",
       "Price              0\n",
       "dtype: int64"
      ]
     },
     "execution_count": 8,
     "metadata": {},
     "output_type": "execute_result"
    }
   ],
   "source": [
    "transaction_df.isnull().sum()"
   ]
  },
  {
   "cell_type": "code",
   "execution_count": 10,
   "id": "5181409d",
   "metadata": {},
   "outputs": [
    {
     "data": {
      "text/html": [
       "<div>\n",
       "<style scoped>\n",
       "    .dataframe tbody tr th:only-of-type {\n",
       "        vertical-align: middle;\n",
       "    }\n",
       "\n",
       "    .dataframe tbody tr th {\n",
       "        vertical-align: top;\n",
       "    }\n",
       "\n",
       "    .dataframe thead th {\n",
       "        text-align: right;\n",
       "    }\n",
       "</style>\n",
       "<table border=\"1\" class=\"dataframe\">\n",
       "  <thead>\n",
       "    <tr style=\"text-align: right;\">\n",
       "      <th></th>\n",
       "      <th>TransactionID</th>\n",
       "      <th>CustomerID</th>\n",
       "      <th>ProductID</th>\n",
       "      <th>TransactionDate</th>\n",
       "      <th>Quantity</th>\n",
       "      <th>TotalValue</th>\n",
       "      <th>Price_x</th>\n",
       "      <th>CustomerName</th>\n",
       "      <th>Region</th>\n",
       "      <th>SignupDate</th>\n",
       "      <th>ProductName</th>\n",
       "      <th>Category</th>\n",
       "      <th>Price_y</th>\n",
       "    </tr>\n",
       "  </thead>\n",
       "  <tbody>\n",
       "    <tr>\n",
       "      <th>0</th>\n",
       "      <td>T00001</td>\n",
       "      <td>C0199</td>\n",
       "      <td>P067</td>\n",
       "      <td>2024-08-25 12:38:23</td>\n",
       "      <td>1</td>\n",
       "      <td>300.68</td>\n",
       "      <td>300.68</td>\n",
       "      <td>Andrea Jenkins</td>\n",
       "      <td>Europe</td>\n",
       "      <td>2022-12-03</td>\n",
       "      <td>ComfortLiving Bluetooth Speaker</td>\n",
       "      <td>Electronics</td>\n",
       "      <td>300.68</td>\n",
       "    </tr>\n",
       "    <tr>\n",
       "      <th>1</th>\n",
       "      <td>T00112</td>\n",
       "      <td>C0146</td>\n",
       "      <td>P067</td>\n",
       "      <td>2024-05-27 22:23:54</td>\n",
       "      <td>1</td>\n",
       "      <td>300.68</td>\n",
       "      <td>300.68</td>\n",
       "      <td>Brittany Harvey</td>\n",
       "      <td>Asia</td>\n",
       "      <td>2024-09-04</td>\n",
       "      <td>ComfortLiving Bluetooth Speaker</td>\n",
       "      <td>Electronics</td>\n",
       "      <td>300.68</td>\n",
       "    </tr>\n",
       "    <tr>\n",
       "      <th>2</th>\n",
       "      <td>T00166</td>\n",
       "      <td>C0127</td>\n",
       "      <td>P067</td>\n",
       "      <td>2024-04-25 07:38:55</td>\n",
       "      <td>1</td>\n",
       "      <td>300.68</td>\n",
       "      <td>300.68</td>\n",
       "      <td>Kathryn Stevens</td>\n",
       "      <td>Europe</td>\n",
       "      <td>2024-04-04</td>\n",
       "      <td>ComfortLiving Bluetooth Speaker</td>\n",
       "      <td>Electronics</td>\n",
       "      <td>300.68</td>\n",
       "    </tr>\n",
       "    <tr>\n",
       "      <th>3</th>\n",
       "      <td>T00272</td>\n",
       "      <td>C0087</td>\n",
       "      <td>P067</td>\n",
       "      <td>2024-03-26 22:55:37</td>\n",
       "      <td>2</td>\n",
       "      <td>601.36</td>\n",
       "      <td>300.68</td>\n",
       "      <td>Travis Campbell</td>\n",
       "      <td>South America</td>\n",
       "      <td>2024-04-11</td>\n",
       "      <td>ComfortLiving Bluetooth Speaker</td>\n",
       "      <td>Electronics</td>\n",
       "      <td>300.68</td>\n",
       "    </tr>\n",
       "    <tr>\n",
       "      <th>4</th>\n",
       "      <td>T00363</td>\n",
       "      <td>C0070</td>\n",
       "      <td>P067</td>\n",
       "      <td>2024-03-21 15:10:10</td>\n",
       "      <td>3</td>\n",
       "      <td>902.04</td>\n",
       "      <td>300.68</td>\n",
       "      <td>Timothy Perez</td>\n",
       "      <td>Europe</td>\n",
       "      <td>2022-03-15</td>\n",
       "      <td>ComfortLiving Bluetooth Speaker</td>\n",
       "      <td>Electronics</td>\n",
       "      <td>300.68</td>\n",
       "    </tr>\n",
       "  </tbody>\n",
       "</table>\n",
       "</div>"
      ],
      "text/plain": [
       "  TransactionID CustomerID ProductID      TransactionDate  Quantity  \\\n",
       "0        T00001      C0199      P067  2024-08-25 12:38:23         1   \n",
       "1        T00112      C0146      P067  2024-05-27 22:23:54         1   \n",
       "2        T00166      C0127      P067  2024-04-25 07:38:55         1   \n",
       "3        T00272      C0087      P067  2024-03-26 22:55:37         2   \n",
       "4        T00363      C0070      P067  2024-03-21 15:10:10         3   \n",
       "\n",
       "   TotalValue  Price_x     CustomerName         Region  SignupDate  \\\n",
       "0      300.68   300.68   Andrea Jenkins         Europe  2022-12-03   \n",
       "1      300.68   300.68  Brittany Harvey           Asia  2024-09-04   \n",
       "2      300.68   300.68  Kathryn Stevens         Europe  2024-04-04   \n",
       "3      601.36   300.68  Travis Campbell  South America  2024-04-11   \n",
       "4      902.04   300.68    Timothy Perez         Europe  2022-03-15   \n",
       "\n",
       "                       ProductName     Category  Price_y  \n",
       "0  ComfortLiving Bluetooth Speaker  Electronics   300.68  \n",
       "1  ComfortLiving Bluetooth Speaker  Electronics   300.68  \n",
       "2  ComfortLiving Bluetooth Speaker  Electronics   300.68  \n",
       "3  ComfortLiving Bluetooth Speaker  Electronics   300.68  \n",
       "4  ComfortLiving Bluetooth Speaker  Electronics   300.68  "
      ]
     },
     "execution_count": 10,
     "metadata": {},
     "output_type": "execute_result"
    }
   ],
   "source": [
    "df=transaction_df.merge(customer_df,on='CustomerID',how='left').merge(product_df,on='ProductID',how='left')\n",
    "df.head()"
   ]
  },
  {
   "cell_type": "code",
   "execution_count": 11,
   "id": "4d678a53",
   "metadata": {},
   "outputs": [],
   "source": [
    "customer_info = df.groupby('CustomerID').agg({\n",
    "    'TotalValue': 'sum',\n",
    "    'TransactionID': 'count',\n",
    "    'Category': lambda x: ','.join(x.unique()),  # Aggregate unique categories\n",
    "    'Region': 'first',\n",
    "    'SignupDate': 'first'\n",
    "}).reset_index()\n"
   ]
  },
  {
   "cell_type": "code",
   "execution_count": 12,
   "id": "6f6bbe00",
   "metadata": {},
   "outputs": [],
   "source": [
    "customer_info['SignupDateRecency'] = (pd.Timestamp('now') - pd.to_datetime(customer_info['SignupDate'])).dt.days\n",
    "category_fake = customer_info['Category'].str.get_dummies(sep=',')\n",
    "region_fake = pd.get_dummies(customer_info['Region'])"
   ]
  },
  {
   "cell_type": "code",
   "execution_count": 13,
   "id": "11bc9796",
   "metadata": {},
   "outputs": [],
   "source": [
    "features = pd.concat([\n",
    "    customer_info[['TotalValue', 'TransactionID', 'SignupDateRecency']],\n",
    "    category_fake,\n",
    "    region_fake\n",
    "], axis=1)"
   ]
  },
  {
   "cell_type": "code",
   "execution_count": 16,
   "id": "c987b390",
   "metadata": {},
   "outputs": [],
   "source": [
    "scaler = MinMaxScaler()\n",
    "normalized_features = scaler.fit_transform(features)"
   ]
  },
  {
   "cell_type": "code",
   "execution_count": 17,
   "id": "3353d1a2",
   "metadata": {},
   "outputs": [],
   "source": [
    "similarity_matrix = cosine_similarity(normalized_features)"
   ]
  },
  {
   "cell_type": "code",
   "execution_count": 19,
   "id": "2c81718b",
   "metadata": {},
   "outputs": [],
   "source": [
    "lookalikes = {}\n",
    "for i, customer_id in enumerate(customer_info['CustomerID'][:20]):\n",
    "    similarities = list(enumerate(similarity_matrix[i]))\n",
    "    sorted_similarities = sorted(similarities, key=lambda x: x[1], reverse=True)[1:4]  # Skip self-comparison\n",
    "    lookalikes[customer_id] = [(customer_info['CustomerID'][j], score) for j, score in sorted_similarities]"
   ]
  },
  {
   "cell_type": "code",
   "execution_count": 20,
   "id": "1ec50b87",
   "metadata": {},
   "outputs": [],
   "source": [
    "lookalike_df = pd.DataFrame({\n",
    "    'CustomerID': lookalikes.keys(),\n",
    "    'Lookalikes': [str(v) for v in lookalikes.values()]\n",
    "})\n",
    "lookalike_df.to_csv('Lookalike.csv', index=False)"
   ]
  },
  {
   "cell_type": "code",
   "execution_count": 21,
   "id": "8c2e54b7",
   "metadata": {},
   "outputs": [
    {
     "name": "stdout",
     "output_type": "stream",
     "text": [
      "   CustomerID                                         Lookalikes\n",
      "0       C0001  [('C0152', 0.9995089000338947), ('C0174', 0.99...\n",
      "1       C0002  [('C0134', 0.9981234118231392), ('C0159', 0.99...\n",
      "2       C0003  [('C0031', 0.9993387540127565), ('C0129', 0.99...\n",
      "3       C0004  [('C0148', 0.9894684086022095), ('C0001', 0.98...\n",
      "4       C0005  [('C0007', 0.9993715903975181), ('C0140', 0.98...\n",
      "5       C0006  [('C0076', 0.9950437771201375), ('C0187', 0.99...\n",
      "6       C0007  [('C0005', 0.9993715903975181), ('C0140', 0.98...\n",
      "7       C0008  [('C0024', 0.9928554429115), ('C0194', 0.99224...\n",
      "8       C0009  [('C0198', 0.9686607787292308), ('C0066', 0.95...\n",
      "9       C0010  [('C0132', 0.9983950796697526), ('C0061', 0.99...\n",
      "10      C0011  [('C0107', 0.9997239354871995), ('C0192', 0.99...\n",
      "11      C0012  [('C0085', 0.976017586724106), ('C0148', 0.974...\n",
      "12      C0013  [('C0087', 0.9995642584349319), ('C0126', 0.99...\n",
      "13      C0014  [('C0089', 0.9857568887129862), ('C0060', 0.90...\n",
      "14      C0015  [('C0131', 0.9668865010432541), ('C0038', 0.95...\n",
      "15      C0016  [('C0183', 0.9999609657355453), ('C0034', 0.99...\n",
      "16      C0017  [('C0051', 0.9984393103104025), ('C0041', 0.99...\n",
      "17      C0018  [('C0035', 0.9940866097973263), ('C0047', 0.98...\n",
      "18      C0019  [('C0070', 0.9845711795117126), ('C0023', 0.98...\n",
      "19      C0020  [('C0050', 0.8120345291779446), ('C0072', 0.79...\n"
     ]
    }
   ],
   "source": [
    "print(lookalike_df)"
   ]
  },
  {
   "cell_type": "code",
   "execution_count": null,
   "id": "0928e2bd",
   "metadata": {},
   "outputs": [],
   "source": []
  }
 ],
 "metadata": {
  "kernelspec": {
   "display_name": "Python 3 (ipykernel)",
   "language": "python",
   "name": "python3"
  },
  "language_info": {
   "codemirror_mode": {
    "name": "ipython",
    "version": 3
   },
   "file_extension": ".py",
   "mimetype": "text/x-python",
   "name": "python",
   "nbconvert_exporter": "python",
   "pygments_lexer": "ipython3",
   "version": "3.9.12"
  }
 },
 "nbformat": 4,
 "nbformat_minor": 5
}
